{
 "cells": [
  {
   "cell_type": "code",
   "execution_count": 1,
   "metadata": {},
   "outputs": [],
   "source": [
    "import pandas as pd\n",
    "import numpy as np\n",
    "import matplotlib as plt"
   ]
  },
  {
   "cell_type": "code",
   "execution_count": 2,
   "metadata": {},
   "outputs": [],
   "source": [
    "data = pd.read_csv('./data/ktw_modified.csv') #wczytanie danych"
   ]
  },
  {
   "cell_type": "code",
   "execution_count": 3,
   "metadata": {},
   "outputs": [],
   "source": [
    "data.set_index(keys=['Rok','Miesiac','Dzien'], inplace = True) #ustawienie multiindeksu na rok-miesiac-dzien"
   ]
  },
  {
   "cell_type": "code",
   "execution_count": 4,
   "metadata": {},
   "outputs": [],
   "source": [
    "data.sort_index(inplace = True) #sortowanie po indeksie"
   ]
  },
  {
   "cell_type": "code",
   "execution_count": 5,
   "metadata": {},
   "outputs": [],
   "source": [
    "data['Typ_opadu'] = data['Typ_opadu'].round(0).astype(int) #zaokrąglenie i rzutowanie na int"
   ]
  },
  {
   "cell_type": "code",
   "execution_count": 6,
   "metadata": {},
   "outputs": [
    {
     "data": {
      "text/html": [
       "<div>\n",
       "<style scoped>\n",
       "    .dataframe tbody tr th:only-of-type {\n",
       "        vertical-align: middle;\n",
       "    }\n",
       "\n",
       "    .dataframe tbody tr th {\n",
       "        vertical-align: top;\n",
       "    }\n",
       "\n",
       "    .dataframe thead th {\n",
       "        text-align: right;\n",
       "    }\n",
       "</style>\n",
       "<table border=\"1\" class=\"dataframe\">\n",
       "  <thead>\n",
       "    <tr style=\"text-align: right;\">\n",
       "      <th></th>\n",
       "      <th></th>\n",
       "      <th></th>\n",
       "      <th>Tmax</th>\n",
       "      <th>Tmin</th>\n",
       "      <th>Tmin_grunt</th>\n",
       "      <th>Opad</th>\n",
       "      <th>Typ_opadu</th>\n",
       "    </tr>\n",
       "    <tr>\n",
       "      <th>Rok</th>\n",
       "      <th>Miesiac</th>\n",
       "      <th>Dzien</th>\n",
       "      <th></th>\n",
       "      <th></th>\n",
       "      <th></th>\n",
       "      <th></th>\n",
       "      <th></th>\n",
       "    </tr>\n",
       "  </thead>\n",
       "  <tbody>\n",
       "    <tr>\n",
       "      <th rowspan=\"5\" valign=\"top\">2001</th>\n",
       "      <th rowspan=\"5\" valign=\"top\">1</th>\n",
       "      <th>1</th>\n",
       "      <td>-0.7</td>\n",
       "      <td>-7.9</td>\n",
       "      <td>-11.1</td>\n",
       "      <td>0.0</td>\n",
       "      <td>1</td>\n",
       "    </tr>\n",
       "    <tr>\n",
       "      <th>2</th>\n",
       "      <td>2.4</td>\n",
       "      <td>-8.7</td>\n",
       "      <td>-8.1</td>\n",
       "      <td>0.1</td>\n",
       "      <td>1</td>\n",
       "    </tr>\n",
       "    <tr>\n",
       "      <th>3</th>\n",
       "      <td>2.2</td>\n",
       "      <td>-3.4</td>\n",
       "      <td>-5.1</td>\n",
       "      <td>5.6</td>\n",
       "      <td>1</td>\n",
       "    </tr>\n",
       "    <tr>\n",
       "      <th>4</th>\n",
       "      <td>6.1</td>\n",
       "      <td>0.5</td>\n",
       "      <td>-2.7</td>\n",
       "      <td>0.0</td>\n",
       "      <td>1</td>\n",
       "    </tr>\n",
       "    <tr>\n",
       "      <th>5</th>\n",
       "      <td>6.5</td>\n",
       "      <td>-1.9</td>\n",
       "      <td>-2.8</td>\n",
       "      <td>0.2</td>\n",
       "      <td>1</td>\n",
       "    </tr>\n",
       "    <tr>\n",
       "      <th>...</th>\n",
       "      <th>...</th>\n",
       "      <th>...</th>\n",
       "      <td>...</td>\n",
       "      <td>...</td>\n",
       "      <td>...</td>\n",
       "      <td>...</td>\n",
       "      <td>...</td>\n",
       "    </tr>\n",
       "    <tr>\n",
       "      <th rowspan=\"5\" valign=\"top\">2019</th>\n",
       "      <th rowspan=\"5\" valign=\"top\">12</th>\n",
       "      <th>27</th>\n",
       "      <td>2.7</td>\n",
       "      <td>1.4</td>\n",
       "      <td>0.6</td>\n",
       "      <td>0.6</td>\n",
       "      <td>2</td>\n",
       "    </tr>\n",
       "    <tr>\n",
       "      <th>28</th>\n",
       "      <td>1.5</td>\n",
       "      <td>-1.6</td>\n",
       "      <td>-1.6</td>\n",
       "      <td>0.3</td>\n",
       "      <td>2</td>\n",
       "    </tr>\n",
       "    <tr>\n",
       "      <th>29</th>\n",
       "      <td>-0.1</td>\n",
       "      <td>-1.8</td>\n",
       "      <td>-1.8</td>\n",
       "      <td>0.0</td>\n",
       "      <td>2</td>\n",
       "    </tr>\n",
       "    <tr>\n",
       "      <th>30</th>\n",
       "      <td>3.1</td>\n",
       "      <td>-4.9</td>\n",
       "      <td>-6.1</td>\n",
       "      <td>0.0</td>\n",
       "      <td>2</td>\n",
       "    </tr>\n",
       "    <tr>\n",
       "      <th>31</th>\n",
       "      <td>4.8</td>\n",
       "      <td>2.0</td>\n",
       "      <td>0.4</td>\n",
       "      <td>0.0</td>\n",
       "      <td>0</td>\n",
       "    </tr>\n",
       "  </tbody>\n",
       "</table>\n",
       "<p>6939 rows × 5 columns</p>\n",
       "</div>"
      ],
      "text/plain": [
       "                    Tmax  Tmin  Tmin_grunt  Opad  Typ_opadu\n",
       "Rok  Miesiac Dzien                                         \n",
       "2001 1       1      -0.7  -7.9       -11.1   0.0          1\n",
       "             2       2.4  -8.7        -8.1   0.1          1\n",
       "             3       2.2  -3.4        -5.1   5.6          1\n",
       "             4       6.1   0.5        -2.7   0.0          1\n",
       "             5       6.5  -1.9        -2.8   0.2          1\n",
       "...                  ...   ...         ...   ...        ...\n",
       "2019 12      27      2.7   1.4         0.6   0.6          2\n",
       "             28      1.5  -1.6        -1.6   0.3          2\n",
       "             29     -0.1  -1.8        -1.8   0.0          2\n",
       "             30      3.1  -4.9        -6.1   0.0          2\n",
       "             31      4.8   2.0         0.4   0.0          0\n",
       "\n",
       "[6939 rows x 5 columns]"
      ]
     },
     "execution_count": 6,
     "metadata": {},
     "output_type": "execute_result"
    }
   ],
   "source": [
    "data #wyswietlenie gotowych danych"
   ]
  },
  {
   "cell_type": "code",
   "execution_count": 7,
   "metadata": {},
   "outputs": [],
   "source": [
    "### METODA ŚREDNIEJ I ODCHYLENIA STANDARDOWEGO ###"
   ]
  },
  {
   "cell_type": "code",
   "execution_count": 8,
   "metadata": {},
   "outputs": [],
   "source": [
    "tmin_std = data.Tmin.std()"
   ]
  },
  {
   "cell_type": "code",
   "execution_count": 9,
   "metadata": {},
   "outputs": [],
   "source": [
    "tmin_srednia = data.Tmin.mean()"
   ]
  },
  {
   "cell_type": "code",
   "execution_count": 10,
   "metadata": {},
   "outputs": [],
   "source": [
    "sigma3 = tmin_srednia-(3*tmin_std)\n",
    "#z wykresów wiemy że outliery mogą być jako minimalna tmin więc bierzemy dół przedziału z reguły 3 sigma"
   ]
  },
  {
   "cell_type": "code",
   "execution_count": 11,
   "metadata": {},
   "outputs": [],
   "source": [
    "warunek1 = data.Tmin < sigma3"
   ]
  },
  {
   "cell_type": "code",
   "execution_count": 12,
   "metadata": {},
   "outputs": [
    {
     "data": {
      "text/plain": [
       "Rok   Miesiac  Dzien\n",
       "2002  1        4       -23.8\n",
       "               5       -19.1\n",
       "      12       26      -19.9\n",
       "2003  1        9       -20.6\n",
       "      2        2       -18.5\n",
       "               13      -20.3\n",
       "2005  2        9       -18.9\n",
       "2006  1        22      -20.2\n",
       "               23      -26.8\n",
       "               24      -24.9\n",
       "               25      -20.9\n",
       "               27      -18.3\n",
       "               28      -18.4\n",
       "      2        5       -19.7\n",
       "2009  2        22      -18.5\n",
       "2010  1        23      -19.6\n",
       "               24      -21.4\n",
       "               25      -20.0\n",
       "               27      -21.2\n",
       "      12       5       -20.7\n",
       "               17      -19.1\n",
       "2012  2        2       -20.2\n",
       "               3       -23.3\n",
       "               4       -22.1\n",
       "               10      -18.7\n",
       "               11      -22.6\n",
       "               12      -22.4\n",
       "               13      -18.5\n",
       "2017  1        7       -26.0\n",
       "               8       -24.7\n",
       "               9       -21.0\n",
       "               11      -18.9\n",
       "Name: Tmin, dtype: float64"
      ]
     },
     "execution_count": 12,
     "metadata": {},
     "output_type": "execute_result"
    }
   ],
   "source": [
    "data.loc[warunek1,'Tmin'] #jako odchylenia zaklasyfikowane zostały wszystkie temperatury poniżej -18.2*C"
   ]
  },
  {
   "cell_type": "code",
   "execution_count": 13,
   "metadata": {},
   "outputs": [
    {
     "data": {
      "text/plain": [
       "32"
      ]
     },
     "execution_count": 13,
     "metadata": {},
     "output_type": "execute_result"
    }
   ],
   "source": [
    "data.Tmin[warunek1].count() # 32 pomiarów jest outlierami"
   ]
  },
  {
   "cell_type": "code",
   "execution_count": 14,
   "metadata": {},
   "outputs": [],
   "source": [
    "### METODA IQR ###"
   ]
  },
  {
   "cell_type": "code",
   "execution_count": 15,
   "metadata": {},
   "outputs": [],
   "source": [
    "Q1 = data.Tmin.quantile(0.25)"
   ]
  },
  {
   "cell_type": "code",
   "execution_count": 16,
   "metadata": {},
   "outputs": [],
   "source": [
    "Q3 = data.Tmin.quantile(0.75)"
   ]
  },
  {
   "cell_type": "code",
   "execution_count": 17,
   "metadata": {},
   "outputs": [],
   "source": [
    "IQR = Q3-Q1"
   ]
  },
  {
   "cell_type": "code",
   "execution_count": 18,
   "metadata": {},
   "outputs": [],
   "source": [
    "dol = Q1-(1.5*IQR) #tak samo jak poprzednio bierzemy dół przedziału; k=1.5"
   ]
  },
  {
   "cell_type": "code",
   "execution_count": 19,
   "metadata": {},
   "outputs": [],
   "source": [
    "warunek2 = data.Tmin < dol"
   ]
  },
  {
   "cell_type": "code",
   "execution_count": 20,
   "metadata": {},
   "outputs": [
    {
     "data": {
      "text/plain": [
       "Rok   Miesiac  Dzien\n",
       "2001  12       13      -18.0\n",
       "2002  1        3       -18.0\n",
       "               4       -23.8\n",
       "               5       -19.1\n",
       "      12       26      -19.9\n",
       "2003  1        9       -20.6\n",
       "      2        2       -18.5\n",
       "               13      -20.3\n",
       "2005  2        8       -18.1\n",
       "               9       -18.9\n",
       "2006  1        22      -20.2\n",
       "               23      -26.8\n",
       "               24      -24.9\n",
       "               25      -20.9\n",
       "               27      -18.3\n",
       "               28      -18.4\n",
       "      2        5       -19.7\n",
       "               6       -17.9\n",
       "2009  2        22      -18.5\n",
       "2010  1        23      -19.6\n",
       "               24      -21.4\n",
       "               25      -20.0\n",
       "               26      -18.0\n",
       "               27      -21.2\n",
       "      12       5       -20.7\n",
       "               16      -17.9\n",
       "               17      -19.1\n",
       "2012  2        2       -20.2\n",
       "               3       -23.3\n",
       "               4       -22.1\n",
       "               10      -18.7\n",
       "               11      -22.6\n",
       "               12      -22.4\n",
       "               13      -18.5\n",
       "2017  1        7       -26.0\n",
       "               8       -24.7\n",
       "               9       -21.0\n",
       "               11      -18.9\n",
       "2018  3        1       -18.0\n",
       "Name: Tmin, dtype: float64"
      ]
     },
     "execution_count": 20,
     "metadata": {},
     "output_type": "execute_result"
    }
   ],
   "source": [
    "data.loc[warunek2,'Tmin'] #jako odchylenia zaklasyfikowane zostały wszystkie temperatury poniżej -17.7*C"
   ]
  },
  {
   "cell_type": "code",
   "execution_count": 21,
   "metadata": {},
   "outputs": [
    {
     "data": {
      "text/plain": [
       "39"
      ]
     },
     "execution_count": 21,
     "metadata": {},
     "output_type": "execute_result"
    }
   ],
   "source": [
    "data.Tmin[warunek2].count() #39 pomiarów jest outlierami"
   ]
  }
 ],
 "metadata": {
  "kernelspec": {
   "display_name": "Python 3",
   "language": "python",
   "name": "python3"
  },
  "language_info": {
   "codemirror_mode": {
    "name": "ipython",
    "version": 3
   },
   "file_extension": ".py",
   "mimetype": "text/x-python",
   "name": "python",
   "nbconvert_exporter": "python",
   "pygments_lexer": "ipython3",
   "version": "3.8.1"
  }
 },
 "nbformat": 4,
 "nbformat_minor": 4
}
